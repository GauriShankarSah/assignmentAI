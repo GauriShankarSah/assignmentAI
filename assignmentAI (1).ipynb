{
 "cells": [
  {
   "cell_type": "markdown",
   "id": "37c82016",
   "metadata": {},
   "source": [
    "1. python program to find prime number with in a range using function."
   ]
  },
  {
   "cell_type": "code",
   "execution_count": 4,
   "id": "310af59a-691f-468a-bc97-7b0519d25683",
   "metadata": {},
   "outputs": [
    {
     "name": "stdout",
     "output_type": "stream",
     "text": [
      "initialRange 7\n",
      "finalRange  8\n"
     ]
    },
    {
     "name": "stdout",
     "output_type": "stream",
     "text": [
      "Prime numbers between 7 and 8: [7]\n"
     ]
    }
   ],
   "source": [
    "def is_prime(num):\n",
    "    if num < 2:\n",
    "        return False\n",
    "    for i in range(2, int(num**0.5) + 1):\n",
    "        if num % i == 0:\n",
    "            return False\n",
    "    return True\n",
    "\n",
    "def find_primes_in_range(start, end):\n",
    "    primes = []\n",
    "    for num in range(start, end + 1):\n",
    "        if is_prime(num):\n",
    "            primes.append(num)\n",
    "    return primes\n",
    "\n",
    "# Example usage\n",
    "start_range = int(input(\"initialRange\"))\n",
    "end_range = int(input(\"finalRange \"))\n",
    "\n",
    "prime_numbers = find_primes_in_range(start_range, end_range)\n",
    "\n",
    "if prime_numbers:\n",
    "    print(f\"Prime numbers between {start_range} and {end_range}: {prime_numbers}\")\n",
    "else:\n",
    "    print(f\"Not Found\")\n"
   ]
  },
  {
   "cell_type": "markdown",
   "id": "446767c0",
   "metadata": {},
   "source": [
    "2. Python  program to check palindrome."
   ]
  },
  {
   "cell_type": "code",
   "execution_count": 6,
   "id": "74115c73-771a-4a73-82f7-eae3019cb513",
   "metadata": {},
   "outputs": [
    {
     "name": "stdout",
     "output_type": "stream",
     "text": [
      "Enter number: 12321\n"
     ]
    },
    {
     "name": "stdout",
     "output_type": "stream",
     "text": [
      "Pallindrome\n"
     ]
    }
   ],
   "source": [
    "n=int(input(\"Enter number:\"))\n",
    "temp=n\n",
    "rev=0\n",
    "while(n>0):\n",
    "    dig=n%10\n",
    "    rev=rev*10+dig\n",
    "    n=n//10\n",
    "if(temp==rev):\n",
    "    print(\"Pallindrome\")\n",
    "else:\n",
    "    print(\"Not Pallindrome\")"
   ]
  },
  {
   "cell_type": "markdown",
   "id": "8b93ddc0",
   "metadata": {},
   "source": [
    "3. Python program to generate the Fibonacci sequence of a given number."
   ]
  },
  {
   "cell_type": "code",
   "execution_count": 8,
   "id": "2990ef0b-9488-4311-8e7e-aed71c7f2f35",
   "metadata": {},
   "outputs": [
    {
     "name": "stdout",
     "output_type": "stream",
     "text": [
      "Enter number: 5\n"
     ]
    },
    {
     "name": "stdout",
     "output_type": "stream",
     "text": [
      "1 2 3 5 8 \n"
     ]
    }
   ],
   "source": [
    "\n",
    "\n",
    "n=int(input(\"Enter number:\"))\n",
    "num1 = 0\n",
    "num2 = 1\n",
    "next_number = num2  \n",
    "count = 1\n",
    " \n",
    "while count <= n:\n",
    "    print(next_number, end=\" \")\n",
    "    count += 1\n",
    "    num1, num2 = num2, next_number\n",
    "    next_number = num1 + num2\n",
    "print()"
   ]
  },
  {
   "cell_type": "markdown",
   "id": "d1686e42",
   "metadata": {},
   "source": [
    "4. Create a number guessing game. Where you have to generate a random number in between 1 to 100 and user have to prompt a number for guess. if its high or low number let the user know and guide them through the process to guess correct number."
   ]
  },
  {
   "cell_type": "code",
   "execution_count": null,
   "id": "aa50e976-a4ea-41fc-bac6-9b8a57d28b84",
   "metadata": {},
   "outputs": [
    {
     "name": "stdout",
     "output_type": "stream",
     "text": [
      "Let's have Some Fun\n",
      "I have chosen a number between 1 and 100. Try to guess it.\n"
     ]
    },
    {
     "name": "stdout",
     "output_type": "stream",
     "text": [
      "Enter your guess:  25\n"
     ]
    },
    {
     "name": "stdout",
     "output_type": "stream",
     "text": [
      "Too low! Try a higher number.\n"
     ]
    },
    {
     "name": "stdout",
     "output_type": "stream",
     "text": [
      "Enter your guess:  50\n"
     ]
    },
    {
     "name": "stdout",
     "output_type": "stream",
     "text": [
      "Too low! Try a higher number.\n"
     ]
    },
    {
     "name": "stdout",
     "output_type": "stream",
     "text": [
      "Enter your guess:  30\n"
     ]
    },
    {
     "name": "stdout",
     "output_type": "stream",
     "text": [
      "Too low! Try a higher number.\n"
     ]
    },
    {
     "name": "stdout",
     "output_type": "stream",
     "text": [
      "Enter your guess:  26\n"
     ]
    },
    {
     "name": "stdout",
     "output_type": "stream",
     "text": [
      "Too low! Try a higher number.\n"
     ]
    }
   ],
   "source": [
    "import random\n",
    "def number_guessing_game():\n",
    "    secret_number = random.randint(1, 100)\n",
    "    attempts = 0\n",
    "\n",
    "    print(\"Let's have Some Fun\")\n",
    "    print(\"I have chosen a number between 1 and 100. Try to guess it.\")\n",
    "\n",
    "    while True:\n",
    "        try:\n",
    "            # Get user's guess\n",
    "            user_guess = int(input(\"Enter your guess: \"))\n",
    "            attempts += 1\n",
    "\n",
    "            # Check if the guess is correct\n",
    "            if user_guess == secret_number:\n",
    "                print(f\"Congratulations! You guessed the correct number {secret_number} in {attempts} attempts.\")\n",
    "                break\n",
    "            elif user_guess < secret_number:\n",
    "                print(\"Too low! Try a higher number.\")\n",
    "            else:\n",
    "                print(\"Too high! Try a lower number.\")\n",
    "\n",
    "        except ValueError:\n",
    "            print(\"Invalid input. Please enter a valid number.\")\n",
    "\n",
    "if __name__ == \"__main__\":\n",
    "    number_guessing_game()\n"
   ]
  }
 ],
 "metadata": {
  "kernelspec": {
   "display_name": "Python 3 (ipykernel)",
   "language": "python",
   "name": "python3"
  },
  "language_info": {
   "codemirror_mode": {
    "name": "ipython",
    "version": 3
   },
   "file_extension": ".py",
   "mimetype": "text/x-python",
   "name": "python",
   "nbconvert_exporter": "python",
   "pygments_lexer": "ipython3",
   "version": "3.10.7"
  }
 },
 "nbformat": 4,
 "nbformat_minor": 5
}
